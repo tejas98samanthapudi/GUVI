{
  "nbformat": 4,
  "nbformat_minor": 0,
  "metadata": {
    "colab": {
      "name": "House_price.ipynb",
      "private_outputs": true,
      "provenance": [],
      "collapsed_sections": [],
      "authorship_tag": "ABX9TyNCfJa8QfSt5OGaQ821NF39",
      "include_colab_link": true
    },
    "kernelspec": {
      "name": "python3",
      "display_name": "Python 3"
    },
    "language_info": {
      "name": "python"
    }
  },
  "cells": [
    {
      "cell_type": "markdown",
      "metadata": {
        "id": "view-in-github",
        "colab_type": "text"
      },
      "source": [
        "<a href=\"https://colab.research.google.com/github/tejas98samanthapudi/GUVI-Assignment/blob/master/House_price_prediction.ipynb\" target=\"_parent\"><img src=\"https://colab.research.google.com/assets/colab-badge.svg\" alt=\"Open In Colab\"/></a>"
      ]
    },
    {
      "cell_type": "code",
      "execution_count": null,
      "metadata": {
        "id": "wkCBy8E17p5Z"
      },
      "outputs": [],
      "source": [
        "import pandas as pd\n",
        "import numpy as np\n",
        "import matplotlib.pyplot as plt\n",
        "import warnings as warnings"
      ]
    },
    {
      "cell_type": "code",
      "source": [
        "train = pd.read_csv(\"train.csv\")\n",
        "test = pd.read_csv(\"test.csv\")"
      ],
      "metadata": {
        "id": "BL9l3z-t8FRZ"
      },
      "execution_count": null,
      "outputs": []
    },
    {
      "cell_type": "code",
      "source": [
        "train.shape, test.shape"
      ],
      "metadata": {
        "id": "w-1LIsuC8WK6"
      },
      "execution_count": null,
      "outputs": []
    },
    {
      "cell_type": "code",
      "source": [
        "train.head()"
      ],
      "metadata": {
        "id": "gVhZ1SwC9lY8"
      },
      "execution_count": null,
      "outputs": []
    },
    {
      "cell_type": "code",
      "source": [
        "test.head()"
      ],
      "metadata": {
        "id": "0jZwZR0B9wF1"
      },
      "execution_count": null,
      "outputs": []
    },
    {
      "cell_type": "code",
      "source": [
        "train.count()"
      ],
      "metadata": {
        "id": "atOHg-U59x5y"
      },
      "execution_count": null,
      "outputs": []
    },
    {
      "cell_type": "code",
      "source": [
        "train.dtypes"
      ],
      "metadata": {
        "id": "NpbIJGWL-MkB"
      },
      "execution_count": null,
      "outputs": []
    },
    {
      "cell_type": "code",
      "source": [
        "train.describe(include= \"all\")"
      ],
      "metadata": {
        "id": "8-8JtcB6-Pem"
      },
      "execution_count": null,
      "outputs": []
    },
    {
      "cell_type": "code",
      "source": [
        "train.isnull()"
      ],
      "metadata": {
        "id": "Nkz-ERfT-arA"
      },
      "execution_count": null,
      "outputs": []
    },
    {
      "cell_type": "code",
      "source": [
        "train.isnull().sum().sum()"
      ],
      "metadata": {
        "id": "ooMslaGp-7dF"
      },
      "execution_count": null,
      "outputs": []
    },
    {
      "cell_type": "code",
      "source": [
        "test.isnull().sum().sum()"
      ],
      "metadata": {
        "id": "0Oyu_g79_N5x"
      },
      "execution_count": null,
      "outputs": []
    },
    {
      "cell_type": "code",
      "source": [
        "y = train.SalePrice\n",
        "X = train.drop(columns = \"SalePrice\", axis = 1)"
      ],
      "metadata": {
        "id": "bezYTxd8_Xk1"
      },
      "execution_count": null,
      "outputs": []
    },
    {
      "cell_type": "code",
      "source": [
        "y.shape,X.shape,test.shape"
      ],
      "metadata": {
        "id": "cq8LKGY2__BT"
      },
      "execution_count": null,
      "outputs": []
    },
    {
      "cell_type": "code",
      "source": [
        "X[\"type\"] = 'train'\n",
        "test[\"type\"] = 'test'\n",
        "data = X.append(test)"
      ],
      "metadata": {
        "id": "RSjWqXGoAPqx"
      },
      "execution_count": null,
      "outputs": []
    },
    {
      "cell_type": "code",
      "source": [
        "y.head()"
      ],
      "metadata": {
        "id": "s95VAPlMJ1lh"
      },
      "execution_count": null,
      "outputs": []
    },
    {
      "cell_type": "code",
      "source": [
        "test.head()"
      ],
      "metadata": {
        "id": "K5dwqet7Jthf"
      },
      "execution_count": null,
      "outputs": []
    },
    {
      "cell_type": "code",
      "source": [
        "data.isnull().sum().sum()"
      ],
      "metadata": {
        "id": "eHzuMFo7BBos"
      },
      "execution_count": null,
      "outputs": []
    },
    {
      "cell_type": "code",
      "source": [
        "columns_having_null_values = data[data.columns[data.isnull().sum()>0]]\n",
        "columns_having_null_values"
      ],
      "metadata": {
        "id": "aPxKFsRyBdyK"
      },
      "execution_count": null,
      "outputs": []
    },
    {
      "cell_type": "code",
      "source": [
        "data[\"Electrical\"].value_counts()"
      ],
      "metadata": {
        "id": "CNdhKa5dCOgJ"
      },
      "execution_count": null,
      "outputs": []
    },
    {
      "cell_type": "code",
      "source": [
        "data[\"Electrical\"].fillna(\"SBrkr\", inplace = True)"
      ],
      "metadata": {
        "id": "mCR3JFV5Ccax"
      },
      "execution_count": null,
      "outputs": []
    },
    {
      "cell_type": "code",
      "source": [
        "data[\"MSZoning\"].value_counts()"
      ],
      "metadata": {
        "id": "prDtXNChC3EF"
      },
      "execution_count": null,
      "outputs": []
    },
    {
      "cell_type": "code",
      "source": [
        "data[\"MSZoning\"].fillna(\"RL\", inplace = True)"
      ],
      "metadata": {
        "id": "0OnOjKxYDA8d"
      },
      "execution_count": null,
      "outputs": []
    },
    {
      "cell_type": "code",
      "source": [
        "data[\"LotFrontage\"].value_counts()"
      ],
      "metadata": {
        "id": "-7Xwbrd4DHSc"
      },
      "execution_count": null,
      "outputs": []
    },
    {
      "cell_type": "code",
      "source": [
        "data['LotFrontage'].fillna(data['LotFrontage'].mean(), inplace=True)"
      ],
      "metadata": {
        "id": "4FxvLAc0DWxn"
      },
      "execution_count": null,
      "outputs": []
    },
    {
      "cell_type": "code",
      "source": [
        "data['Alley'].fillna(\"Nothing\", inplace=True)\n",
        "data['Utilities'].fillna(\"AllPub\", inplace=True)\n",
        "data['Exterior1st'].fillna(\"VinylSd\", inplace=True)\n",
        "data['Exterior2nd'].fillna(\"VinylSd\", inplace=True)\n",
        "data['MasVnrArea'].fillna(0, inplace=True)\n",
        "data['MasVnrType'].fillna(\"None\", inplace=True)\n",
        "data['BsmtCond'].fillna(\"No\", inplace=True)\n",
        "data['BsmtExposure'].fillna(\"NB\", inplace=True)\n",
        "data['BsmtFinType1'].fillna(\"NB\", inplace=True)\n",
        "data['BsmtFinSF1'].fillna(0.0, inplace=True)\n",
        "data['BsmtFinSF2'].fillna(0.0, inplace=True)\n",
        "data['BsmtUnfSF'].fillna(0.0, inplace=True)\n",
        "data['TotalBsmtSF'].fillna(0.0, inplace=True)\n",
        "data['BsmtFullBath'].fillna(0.0, inplace=True)\n",
        "data['BsmtHalfBath'].fillna(0.0, inplace=True)\n",
        "data['KitchenQual'].fillna(\"TA\", inplace=True)\n",
        "data['Functional'].fillna(\"Typ\", inplace=True)\n",
        "data['FireplaceQu'].fillna(\"None\", inplace=True)\n",
        "data['GarageType'].fillna(\"No\", inplace=True)\n",
        "data['GarageYrBlt'].fillna(0, inplace=True)\n",
        "data['GarageFinish'].fillna(\"No\", inplace=True)\n",
        "data['GarageCars'].fillna(0, inplace=True)\n",
        "data['GarageArea'].fillna(0, inplace=True)\n",
        "data['GarageQual'].fillna(\"No\", inplace=True)\n",
        "data['GarageCond'].fillna(\"No\", inplace=True)\n",
        "data['PoolQC'].fillna(\"No\", inplace=True)\n",
        "data['Fence'].fillna(\"No\", inplace=True)\n",
        "data['MiscFeature'].fillna(\"No\", inplace=True)\n",
        "data['SaleType'].fillna(\"Con\", inplace=True)\n",
        "data['SaleCondition'].fillna(\"None\", inplace=True)\n",
        "data['BsmtQual'].fillna(\"TA\", inplace=True)\n",
        "data['BsmtFinType2'].fillna(\"Unf\", inplace=True)"
      ],
      "metadata": {
        "id": "l0TOhaC4Ds9g"
      },
      "execution_count": null,
      "outputs": []
    },
    {
      "cell_type": "code",
      "source": [
        "data.isnull().sum().sum()"
      ],
      "metadata": {
        "id": "D5po6IFSD-NM"
      },
      "execution_count": null,
      "outputs": []
    },
    {
      "cell_type": "code",
      "source": [
        "int_columns = data[data.columns[data.dtypes == 'int']]\n",
        "int_columns.columns"
      ],
      "metadata": {
        "id": "pw7ylOQJECqF"
      },
      "execution_count": null,
      "outputs": []
    },
    {
      "cell_type": "code",
      "source": [
        "data[\"MSZoning\"].unique()"
      ],
      "metadata": {
        "id": "Au8_s1j-EUYO"
      },
      "execution_count": null,
      "outputs": []
    },
    {
      "cell_type": "code",
      "source": [
        "object_columns = data[data.columns[data.dtypes == \"object\"]]\n",
        "object_columns.columns"
      ],
      "metadata": {
        "id": "dvxyX0jyEnTj"
      },
      "execution_count": null,
      "outputs": []
    },
    {
      "cell_type": "code",
      "source": [
        "float_columns = data[data.columns[data.dtypes == \"float\"]]\n",
        "float_columns.columns"
      ],
      "metadata": {
        "id": "qeitKD54Ezu1"
      },
      "execution_count": null,
      "outputs": []
    },
    {
      "cell_type": "code",
      "source": [
        "from sklearn.preprocessing import LabelEncoder\n",
        "for i in object_columns:\n",
        "  label = LabelEncoder()\n",
        "  label.fit(data[i].values)\n",
        "  data[i] = label.transform(data[i].values)"
      ],
      "metadata": {
        "id": "SOncVxi7E_Oi"
      },
      "execution_count": null,
      "outputs": []
    },
    {
      "cell_type": "code",
      "source": [
        "object_columnns = data[data.columns[data.dtypes=='object']]\n",
        "object_columnns.columns"
      ],
      "metadata": {
        "id": "-aGl6-CIFpPN"
      },
      "execution_count": null,
      "outputs": []
    },
    {
      "cell_type": "code",
      "source": [
        "int_columns = data[data.columns[data.dtypes=='int']]\n",
        "int_columns.columns"
      ],
      "metadata": {
        "id": "KHdgDoxZG81I"
      },
      "execution_count": null,
      "outputs": []
    },
    {
      "cell_type": "code",
      "source": [
        "data.head()"
      ],
      "metadata": {
        "id": "CR4usTKEHNs3"
      },
      "execution_count": null,
      "outputs": []
    },
    {
      "cell_type": "code",
      "source": [
        "X_ = data[data.type==1]\n",
        "X_ = X_.drop([\"type\"], axis=1)\n",
        "\n",
        "test_ = data[data.type==0]\n",
        "test_ = test_.drop([\"type\"], axis=1)"
      ],
      "metadata": {
        "id": "rFqsh3rLI-X_"
      },
      "execution_count": null,
      "outputs": []
    },
    {
      "cell_type": "code",
      "source": [
        "X_.shape, y.shape, test.shape"
      ],
      "metadata": {
        "id": "dBgyhKbEJDcV"
      },
      "execution_count": null,
      "outputs": []
    },
    {
      "cell_type": "code",
      "source": [
        "X_.head()"
      ],
      "metadata": {
        "id": "MtjIHeqDM0Ne"
      },
      "execution_count": null,
      "outputs": []
    },
    {
      "cell_type": "code",
      "source": [
        "from sklearn import preprocessing\n",
        "names = X_.columns\n",
        "prepro = preprocessing.normalize(X_)\n",
        "X_scaled = pd.DataFrame(prepro, columns=names)"
      ],
      "metadata": {
        "id": "EHFEwqAuJaYe"
      },
      "execution_count": null,
      "outputs": []
    },
    {
      "cell_type": "code",
      "source": [
        "X_scaled.head()"
      ],
      "metadata": {
        "id": "7fjkRecZK7Ih"
      },
      "execution_count": null,
      "outputs": []
    },
    {
      "cell_type": "code",
      "source": [
        "from sklearn.preprocessing import MinMaxScaler\n",
        "min_man_scalar = MinMaxScaler()"
      ],
      "metadata": {
        "id": "sVuHfSeELW11"
      },
      "execution_count": null,
      "outputs": []
    },
    {
      "cell_type": "code",
      "source": [
        "score_test = []\n",
        "model = []"
      ],
      "metadata": {
        "id": "MdHlD__aLpda"
      },
      "execution_count": null,
      "outputs": []
    },
    {
      "cell_type": "code",
      "source": [
        "from sklearn.model_selection import train_test_split\n",
        "x_train,x_test,y_train,y_test = train_test_split(X_,y,test_size = 0.25, random_state =1)\n"
      ],
      "metadata": {
        "id": "e5SdcSllMCD1"
      },
      "execution_count": null,
      "outputs": []
    },
    {
      "cell_type": "code",
      "source": [
        "from sklearn.model_selection import train_test_split\n",
        "x_train_scaled, x_test_scaled, y_train_scaled, y_test_scaled = train_test_split(X_scaled, y, test_size=0.25, random_state=1)\n"
      ],
      "metadata": {
        "id": "j3oqsUy4MkJF"
      },
      "execution_count": null,
      "outputs": []
    },
    {
      "cell_type": "code",
      "source": [
        "from sklearn.ensemble import RandomForestRegressor\n",
        "model_randomforest = RandomForestRegressor(n_estimators=500,n_jobs=1,random_state=13)\n",
        "model_randomforest.fit(x_train,y_train)\n",
        "\n",
        "scaled_randomforest = RandomForestRegressor(n_estimators=500,n_jobs=1,random_state=13)\n",
        "scaled_randomforest.fit(x_train_scaled,y_train_scaled)\n"
      ],
      "metadata": {
        "id": "MZ0cL6iHM9dS"
      },
      "execution_count": null,
      "outputs": []
    },
    {
      "cell_type": "code",
      "source": [
        "y_predict_randomforest = model_randomforest.predict(x_test)"
      ],
      "metadata": {
        "id": "5qV7ocLvzhrA"
      },
      "execution_count": null,
      "outputs": []
    },
    {
      "cell_type": "code",
      "source": [
        "score_test.append(model_randomforest.score(x_test,y_test))\n",
        "model.append(\"model_randomforest\")\n",
        "\n",
        "score_test.append(scaled_randomforest.score(x_test_scaled,y_test_scaled))\n",
        "model.append(\"scaled_randomforest\")"
      ],
      "metadata": {
        "id": "rFRvlcQTz7Ix"
      },
      "execution_count": null,
      "outputs": []
    },
    {
      "cell_type": "code",
      "source": [
        "import xgboost as xgb\n",
        "\n",
        "model_xgb = xgb.XGBRegressor(colsample_bytree=0.4603, gamma=0.0468, \n",
        "learning_rate=0.05, max_depth=3, min_child_weight=1.7817, n_estimators=2200,\n",
        "reg_alpha=0.4640, reg_lambda=0.8571, subsample=0.5213, silent=1,\n",
        "random_state =7, nthread = -1)\n",
        "\n",
        "model_xgb.fit(x_train,y_train)\n",
        "\n",
        "model_xgb_scaled = xgb.XGBRegressor(colsample_bytree=0.4603, gamma=0.0468, \n",
        "learning_rate=0.05, max_depth=3, min_child_weight=1.7817, n_estimators=2200,\n",
        "reg_alpha=0.4640, reg_lambda=0.8571, subsample=0.5213, silent=1,\n",
        "random_state =7, nthread = -1)\n",
        " \n",
        "model_xgb_scaled.fit(x_train_scaled, y_train_scaled)"
      ],
      "metadata": {
        "id": "-j_LAQGU0jIa"
      },
      "execution_count": null,
      "outputs": []
    },
    {
      "cell_type": "code",
      "source": [
        "score_test.append(model_xgb.score(x_test, y_test))\n",
        "model.append(\"model_xgb\")\n",
        "\n",
        "score_test.append(model_xgb_scaled.score(x_test_scaled, y_test_scaled))\n",
        "model.append(\"model_xgb_scaled\")"
      ],
      "metadata": {
        "id": "ZxPkYFIg1eCn"
      },
      "execution_count": null,
      "outputs": []
    },
    {
      "cell_type": "code",
      "source": [
        "y_predict_xgb = model_xgb.predict(test_)"
      ],
      "metadata": {
        "id": "fO1CSkGj1mQq"
      },
      "execution_count": null,
      "outputs": []
    },
    {
      "cell_type": "code",
      "source": [
        "from sklearn.tree import DecisionTreeRegressor\n",
        "model_tree = DecisionTreeRegressor(random_state=0)\n",
        "model_tree.fit(x_train,y_train)\n",
        "\n",
        "scaled_tree = DecisionTreeRegressor(random_state=0)\n",
        "scaled_tree.fit(x_train_scaled,y_train_scaled)"
      ],
      "metadata": {
        "id": "SNl2VcUY2Byx"
      },
      "execution_count": null,
      "outputs": []
    },
    {
      "cell_type": "code",
      "source": [
        "model_tree.score(x_train,y_train)"
      ],
      "metadata": {
        "id": "2jS19-Gk2oF1"
      },
      "execution_count": null,
      "outputs": []
    },
    {
      "cell_type": "code",
      "source": [
        "score_test.append(model_tree.score(x_test, y_test))\n",
        "model.append(\"model_decisiontree\")\n",
        "\n",
        "score_test.append(scaled_tree.score(x_test_scaled, y_test_scaled))\n",
        "model.append(\"scaled_decisiontree\")"
      ],
      "metadata": {
        "id": "HaueXpOv21dN"
      },
      "execution_count": null,
      "outputs": []
    },
    {
      "cell_type": "code",
      "source": [
        "final_scores = pd.DataFrame()\n",
        "final_scores['model_name'] = model\n",
        "final_scores['score_test'] = score_test\n",
        "final_scores"
      ],
      "metadata": {
        "id": "NyvEecbn26iw"
      },
      "execution_count": null,
      "outputs": []
    },
    {
      "cell_type": "code",
      "source": [
        "best_index = score_test.index(max(score_test))\n",
        "final_scores['model_name'][best_index]"
      ],
      "metadata": {
        "id": "A90J4EwJ6BIq"
      },
      "execution_count": null,
      "outputs": []
    },
    {
      "cell_type": "code",
      "source": [
        "result = pd.DataFrame()\n",
        "result['Id'] = test['Id']\n",
        "result['SalePrice'] = y_predict_xgb"
      ],
      "metadata": {
        "id": "SFM9cImZ6CE2"
      },
      "execution_count": null,
      "outputs": []
    },
    {
      "cell_type": "code",
      "source": [
        "result.head()"
      ],
      "metadata": {
        "id": "YsF75B_r6XAq"
      },
      "execution_count": null,
      "outputs": []
    },
    {
      "cell_type": "code",
      "source": [
        "result.to_csv('submission.csv', index=False)"
      ],
      "metadata": {
        "id": "1l5fLEby6liq"
      },
      "execution_count": null,
      "outputs": []
    }
  ]
}