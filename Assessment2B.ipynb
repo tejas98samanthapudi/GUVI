{
 "cells": [
  {
   "cell_type": "markdown",
   "metadata": {},
   "source": [
    "###### Assessment"
   ]
  },
  {
   "cell_type": "markdown",
   "metadata": {},
   "source": [
    "###### I am going to provide two .csv files , you are supposed to work on them and have to provide solutions to the following problems"
   ]
  },
  {
   "cell_type": "markdown",
   "metadata": {},
   "source": [
    "###### import necessary libraries"
   ]
  },
  {
   "cell_type": "code",
   "execution_count": 1,
   "metadata": {},
   "outputs": [],
   "source": [
    "import numpy as np\n",
    "import pandas as pd\n",
    "import matplotlib.pyplot as plt"
   ]
  },
  {
   "cell_type": "markdown",
   "metadata": {},
   "source": [
    "###### merge those two csv files (after getting as dataframes, get them as a single dataframe)"
   ]
  },
  {
   "cell_type": "code",
   "execution_count": 13,
   "metadata": {},
   "outputs": [
    {
     "data": {
      "text/html": [
       "<div>\n",
       "<style scoped>\n",
       "    .dataframe tbody tr th:only-of-type {\n",
       "        vertical-align: middle;\n",
       "    }\n",
       "\n",
       "    .dataframe tbody tr th {\n",
       "        vertical-align: top;\n",
       "    }\n",
       "\n",
       "    .dataframe thead th {\n",
       "        text-align: right;\n",
       "    }\n",
       "</style>\n",
       "<table border=\"1\" class=\"dataframe\">\n",
       "  <thead>\n",
       "    <tr style=\"text-align: right;\">\n",
       "      <th></th>\n",
       "      <th>Name</th>\n",
       "      <th>python_x</th>\n",
       "      <th>mysql_x</th>\n",
       "      <th>Previous Geekions_x</th>\n",
       "      <th>CodeKata Score_x</th>\n",
       "      <th>Department_x</th>\n",
       "      <th>Rising_x</th>\n",
       "      <th>python_y</th>\n",
       "      <th>python_en</th>\n",
       "      <th>mysql_y</th>\n",
       "      <th>computational_thinking</th>\n",
       "      <th>Previous Geekions_y</th>\n",
       "      <th>CodeKata Score_y</th>\n",
       "      <th>Department_y</th>\n",
       "      <th>Rising_y</th>\n",
       "    </tr>\n",
       "  </thead>\n",
       "  <tbody>\n",
       "    <tr>\n",
       "      <th>0</th>\n",
       "      <td>A.Dharani</td>\n",
       "      <td>82.0</td>\n",
       "      <td>20.0</td>\n",
       "      <td>24500.0</td>\n",
       "      <td>24500.0</td>\n",
       "      <td>Computer Science and Engineering</td>\n",
       "      <td>0.0</td>\n",
       "      <td>NaN</td>\n",
       "      <td>NaN</td>\n",
       "      <td>NaN</td>\n",
       "      <td>NaN</td>\n",
       "      <td>NaN</td>\n",
       "      <td>NaN</td>\n",
       "      <td>NaN</td>\n",
       "      <td>NaN</td>\n",
       "    </tr>\n",
       "    <tr>\n",
       "      <th>1</th>\n",
       "      <td>V.JEEVITHA</td>\n",
       "      <td>82.0</td>\n",
       "      <td>20.0</td>\n",
       "      <td>21740.0</td>\n",
       "      <td>21740.0</td>\n",
       "      <td>Computer Science and Engineering</td>\n",
       "      <td>0.0</td>\n",
       "      <td>NaN</td>\n",
       "      <td>NaN</td>\n",
       "      <td>NaN</td>\n",
       "      <td>NaN</td>\n",
       "      <td>NaN</td>\n",
       "      <td>NaN</td>\n",
       "      <td>NaN</td>\n",
       "      <td>NaN</td>\n",
       "    </tr>\n",
       "    <tr>\n",
       "      <th>2</th>\n",
       "      <td>HEMAVATHI.R</td>\n",
       "      <td>100.0</td>\n",
       "      <td>100.0</td>\n",
       "      <td>19680.0</td>\n",
       "      <td>19680.0</td>\n",
       "      <td>Computer Science and Engineering</td>\n",
       "      <td>0.0</td>\n",
       "      <td>NaN</td>\n",
       "      <td>NaN</td>\n",
       "      <td>NaN</td>\n",
       "      <td>NaN</td>\n",
       "      <td>NaN</td>\n",
       "      <td>NaN</td>\n",
       "      <td>NaN</td>\n",
       "      <td>NaN</td>\n",
       "    </tr>\n",
       "    <tr>\n",
       "      <th>3</th>\n",
       "      <td>Mugunthan S</td>\n",
       "      <td>100.0</td>\n",
       "      <td>47.0</td>\n",
       "      <td>10610.0</td>\n",
       "      <td>10610.0</td>\n",
       "      <td>Computer Science and Engineering</td>\n",
       "      <td>0.0</td>\n",
       "      <td>NaN</td>\n",
       "      <td>NaN</td>\n",
       "      <td>NaN</td>\n",
       "      <td>NaN</td>\n",
       "      <td>NaN</td>\n",
       "      <td>NaN</td>\n",
       "      <td>NaN</td>\n",
       "      <td>NaN</td>\n",
       "    </tr>\n",
       "    <tr>\n",
       "      <th>4</th>\n",
       "      <td>Sathammai.S</td>\n",
       "      <td>100.0</td>\n",
       "      <td>8.0</td>\n",
       "      <td>8980.0</td>\n",
       "      <td>8980.0</td>\n",
       "      <td>Computer Science and Engineering</td>\n",
       "      <td>0.0</td>\n",
       "      <td>NaN</td>\n",
       "      <td>NaN</td>\n",
       "      <td>NaN</td>\n",
       "      <td>NaN</td>\n",
       "      <td>NaN</td>\n",
       "      <td>NaN</td>\n",
       "      <td>NaN</td>\n",
       "      <td>NaN</td>\n",
       "    </tr>\n",
       "    <tr>\n",
       "      <th>...</th>\n",
       "      <td>...</td>\n",
       "      <td>...</td>\n",
       "      <td>...</td>\n",
       "      <td>...</td>\n",
       "      <td>...</td>\n",
       "      <td>...</td>\n",
       "      <td>...</td>\n",
       "      <td>...</td>\n",
       "      <td>...</td>\n",
       "      <td>...</td>\n",
       "      <td>...</td>\n",
       "      <td>...</td>\n",
       "      <td>...</td>\n",
       "      <td>...</td>\n",
       "      <td>...</td>\n",
       "    </tr>\n",
       "    <tr>\n",
       "      <th>115</th>\n",
       "      <td>AMARNATH D</td>\n",
       "      <td>NaN</td>\n",
       "      <td>NaN</td>\n",
       "      <td>NaN</td>\n",
       "      <td>NaN</td>\n",
       "      <td>NaN</td>\n",
       "      <td>NaN</td>\n",
       "      <td>-1.0</td>\n",
       "      <td>52.0</td>\n",
       "      <td>12.0</td>\n",
       "      <td>-1.0</td>\n",
       "      <td>1890.0</td>\n",
       "      <td>1890.0</td>\n",
       "      <td>Electronics and Communication Engineering</td>\n",
       "      <td>0.0</td>\n",
       "    </tr>\n",
       "    <tr>\n",
       "      <th>116</th>\n",
       "      <td>bala</td>\n",
       "      <td>NaN</td>\n",
       "      <td>NaN</td>\n",
       "      <td>NaN</td>\n",
       "      <td>NaN</td>\n",
       "      <td>NaN</td>\n",
       "      <td>NaN</td>\n",
       "      <td>32.0</td>\n",
       "      <td>49.0</td>\n",
       "      <td>0.0</td>\n",
       "      <td>-1.0</td>\n",
       "      <td>1720.0</td>\n",
       "      <td>1720.0</td>\n",
       "      <td>Electronics and Communication Engineering</td>\n",
       "      <td>0.0</td>\n",
       "    </tr>\n",
       "    <tr>\n",
       "      <th>117</th>\n",
       "      <td>XY Z</td>\n",
       "      <td>NaN</td>\n",
       "      <td>NaN</td>\n",
       "      <td>NaN</td>\n",
       "      <td>NaN</td>\n",
       "      <td>NaN</td>\n",
       "      <td>NaN</td>\n",
       "      <td>-1.0</td>\n",
       "      <td>20.0</td>\n",
       "      <td>-1.0</td>\n",
       "      <td>-1.0</td>\n",
       "      <td>0.0</td>\n",
       "      <td>0.0</td>\n",
       "      <td>Computer Science and Engineering</td>\n",
       "      <td>0.0</td>\n",
       "    </tr>\n",
       "    <tr>\n",
       "      <th>118</th>\n",
       "      <td>Hariharan</td>\n",
       "      <td>NaN</td>\n",
       "      <td>NaN</td>\n",
       "      <td>NaN</td>\n",
       "      <td>NaN</td>\n",
       "      <td>NaN</td>\n",
       "      <td>NaN</td>\n",
       "      <td>-1.0</td>\n",
       "      <td>-1.0</td>\n",
       "      <td>-1.0</td>\n",
       "      <td>0.0</td>\n",
       "      <td>0.0</td>\n",
       "      <td>0.0</td>\n",
       "      <td>Computer Science and Engineering</td>\n",
       "      <td>0.0</td>\n",
       "    </tr>\n",
       "    <tr>\n",
       "      <th>119</th>\n",
       "      <td>NaN</td>\n",
       "      <td>NaN</td>\n",
       "      <td>NaN</td>\n",
       "      <td>NaN</td>\n",
       "      <td>NaN</td>\n",
       "      <td>NaN</td>\n",
       "      <td>NaN</td>\n",
       "      <td>NaN</td>\n",
       "      <td>NaN</td>\n",
       "      <td>NaN</td>\n",
       "      <td>NaN</td>\n",
       "      <td>NaN</td>\n",
       "      <td>NaN</td>\n",
       "      <td>NaN</td>\n",
       "      <td>NaN</td>\n",
       "    </tr>\n",
       "  </tbody>\n",
       "</table>\n",
       "<p>120 rows × 15 columns</p>\n",
       "</div>"
      ],
      "text/plain": [
       "            Name  python_x  mysql_x  Previous Geekions_x  CodeKata Score_x  \\\n",
       "0      A.Dharani      82.0     20.0              24500.0           24500.0   \n",
       "1    V.JEEVITHA       82.0     20.0              21740.0           21740.0   \n",
       "2    HEMAVATHI.R     100.0    100.0              19680.0           19680.0   \n",
       "3    Mugunthan S     100.0     47.0              10610.0           10610.0   \n",
       "4    Sathammai.S     100.0      8.0               8980.0            8980.0   \n",
       "..           ...       ...      ...                  ...               ...   \n",
       "115   AMARNATH D       NaN      NaN                  NaN               NaN   \n",
       "116         bala       NaN      NaN                  NaN               NaN   \n",
       "117         XY Z       NaN      NaN                  NaN               NaN   \n",
       "118    Hariharan       NaN      NaN                  NaN               NaN   \n",
       "119          NaN       NaN      NaN                  NaN               NaN   \n",
       "\n",
       "                         Department_x  Rising_x  python_y  python_en  mysql_y  \\\n",
       "0    Computer Science and Engineering       0.0       NaN        NaN      NaN   \n",
       "1    Computer Science and Engineering       0.0       NaN        NaN      NaN   \n",
       "2    Computer Science and Engineering       0.0       NaN        NaN      NaN   \n",
       "3    Computer Science and Engineering       0.0       NaN        NaN      NaN   \n",
       "4    Computer Science and Engineering       0.0       NaN        NaN      NaN   \n",
       "..                                ...       ...       ...        ...      ...   \n",
       "115                               NaN       NaN      -1.0       52.0     12.0   \n",
       "116                               NaN       NaN      32.0       49.0      0.0   \n",
       "117                               NaN       NaN      -1.0       20.0     -1.0   \n",
       "118                               NaN       NaN      -1.0       -1.0     -1.0   \n",
       "119                               NaN       NaN       NaN        NaN      NaN   \n",
       "\n",
       "     computational_thinking  Previous Geekions_y  CodeKata Score_y  \\\n",
       "0                       NaN                  NaN               NaN   \n",
       "1                       NaN                  NaN               NaN   \n",
       "2                       NaN                  NaN               NaN   \n",
       "3                       NaN                  NaN               NaN   \n",
       "4                       NaN                  NaN               NaN   \n",
       "..                      ...                  ...               ...   \n",
       "115                    -1.0               1890.0            1890.0   \n",
       "116                    -1.0               1720.0            1720.0   \n",
       "117                    -1.0                  0.0               0.0   \n",
       "118                     0.0                  0.0               0.0   \n",
       "119                     NaN                  NaN               NaN   \n",
       "\n",
       "                                  Department_y  Rising_y  \n",
       "0                                          NaN       NaN  \n",
       "1                                          NaN       NaN  \n",
       "2                                          NaN       NaN  \n",
       "3                                          NaN       NaN  \n",
       "4                                          NaN       NaN  \n",
       "..                                         ...       ...  \n",
       "115  Electronics and Communication Engineering       0.0  \n",
       "116  Electronics and Communication Engineering       0.0  \n",
       "117           Computer Science and Engineering       0.0  \n",
       "118           Computer Science and Engineering       0.0  \n",
       "119                                        NaN       NaN  \n",
       "\n",
       "[120 rows x 15 columns]"
      ]
     },
     "execution_count": 13,
     "metadata": {},
     "output_type": "execute_result"
    }
   ],
   "source": [
    "data1 = pd.read_csv('C:/assignment/college_1.csv')\n",
    "data2 = pd.read_csv('C:/assignment/college_2.csv')\n",
    "out1 = pd.merge(data1, data2, how = 'outer',\n",
    "                  left_on = \"Name\",\n",
    "                  right_on = \"Name\"\n",
    "                  )\n",
    "out1\n",
    "# This below method is to concat the 2 data files:\n",
    "# out_2 = pd.concat([data1,data2],axis =1)\n",
    "# out_2.to_csv(\"Concatinated_data_set.csv\")"
   ]
  },
  {
   "cell_type": "markdown",
   "metadata": {},
   "source": [
    "###### Take each csv file , split that csv file into multiple categories (example csv files are added in the repo) \n"
   ]
  },
  {
   "cell_type": "markdown",
   "metadata": {},
   "source": [
    "###### consider if the codekata score exceeds 15000 points(present week) then make a csv on those observations as Exceeded expectations.csv\n"
   ]
  },
  {
   "cell_type": "markdown",
   "metadata": {},
   "source": [
    "###### if  10000<codekata score<15000   (Reached_expectations.csv)\n",
    "\n"
   ]
  },
  {
   "cell_type": "markdown",
   "metadata": {},
   "source": [
    "###### if  7000<codekata score<10000   (Needs_Improvement.csv)\n"
   ]
  },
  {
   "cell_type": "markdown",
   "metadata": {},
   "source": [
    "###### if  codekate score < 7000        (Unsatisfactory.csv)"
   ]
  },
  {
   "cell_type": "code",
   "execution_count": 3,
   "metadata": {},
   "outputs": [],
   "source": [
    "data1 = pd.read_csv('C:/assignment/college_1.csv')\n",
    "\n",
    "dataframe = pd.DataFrame(data1, columns = ['Name', 'python', 'mysql', 'Previous Geekions','CodeKata Score','Department','Rising'])\n",
    "\n",
    "resultfr = dataframe[dataframe['CodeKata Score'] > 15000]\n",
    "resultfr.to_csv(\"C:/assignment/Exceeded expectations.csv\")\n",
    "\n",
    "resultfr1 = dataframe[(dataframe['CodeKata Score'] > 10000) & (dataframe['CodeKata Score'] < 15000)]\n",
    "resultfr1.to_csv(\"Reached_expectations.csv\")\n",
    "\n",
    "resultfr2 = dataframe[(dataframe['CodeKata Score'] > 7000) & (dataframe['CodeKata Score'] < 10000)]\n",
    "resultfr2.to_csv(\"Needs_Improvement.csv\")\n",
    "\n",
    "resultfr3 = dataframe[dataframe['CodeKata Score'] < 7000]\n",
    "resultfr3.to_csv(\"Unsatisfactory.csv\")"
   ]
  },
  {
   "cell_type": "code",
   "execution_count": 4,
   "metadata": {},
   "outputs": [],
   "source": [
    "data1 = pd.read_csv('C:/assignment/college_2.csv')\n",
    "\n",
    "dataframe = pd.DataFrame(data1, columns = ['Name', 'python', 'python_en','mysql','computational_thinking' ,'Previous Geekions','CodeKata Score','Department','Rising'])\n",
    "\n",
    "resultfr = dataframe[dataframe['CodeKata Score'] > 15000]\n",
    "resultfr.to_csv(\"Exceeded expectations1.csv\")\n",
    "\n",
    "resultfr1 = dataframe[(dataframe['CodeKata Score'] > 10000) & (dataframe['CodeKata Score'] < 15000)]\n",
    "resultfr1.to_csv(\"Reached_expectations1.csv\")\n",
    "\n",
    "resultfr2 = dataframe[(dataframe['CodeKata Score'] > 7000) & (dataframe['CodeKata Score'] < 10000)]\n",
    "resultfr2.to_csv(\"Needs_Improvement1.csv\")\n",
    "\n",
    "resultfr3 = dataframe[dataframe['CodeKata Score'] < 7000]\n",
    "resultfr3.to_csv(\"Unsatisfactory1.csv\")"
   ]
  },
  {
   "cell_type": "markdown",
   "metadata": {},
   "source": [
    "###### Average of previous week geekions vs this week geekions (i.e Previous Geekions vs CodeKata Score)"
   ]
  },
  {
   "cell_type": "code",
   "execution_count": 5,
   "metadata": {},
   "outputs": [
    {
     "name": "stdout",
     "output_type": "stream",
     "text": [
      "Previous Geekions    2904.523810\n",
      "Previous Geekions    6093.142857\n",
      "dtype: float64\n"
     ]
    }
   ],
   "source": [
    "import pandas as pd\n",
    "data1 = pd.read_csv('C:/assignment/college_1.csv')\n",
    "data2 = pd.read_csv('C:/assignment/college_2.csv')\n",
    "mean_3 = out_2['Previous Geekions'].mean()\n",
    "print(mean_3)"
   ]
  },
  {
   "cell_type": "markdown",
   "metadata": {},
   "source": [
    "###### No of students participated "
   ]
  },
  {
   "cell_type": "code",
   "execution_count": 6,
   "metadata": {},
   "outputs": [
    {
     "name": "stdout",
     "output_type": "stream",
     "text": [
      "Number of students participated in college 1 :- 84\n",
      "Number of students participated in college 2 :- 35\n"
     ]
    }
   ],
   "source": [
    "students_count = -1\n",
    "for row in open('C:/assignment/college_1.csv'):\n",
    "  students_count += 1\n",
    "print(\"Number of students participated in college 1 :-\", students_count )\n",
    "students_count1 = -2\n",
    "for row in open('C:/assignment/college_2.csv'):\n",
    "  students_count1 += 1\n",
    "print(\"Number of students participated in college 2 :-\", students_count1 )"
   ]
  },
  {
   "cell_type": "markdown",
   "metadata": {},
   "source": [
    "###### #Average completion of python course or my_sql or python english or computational thinking"
   ]
  },
  {
   "cell_type": "code",
   "execution_count": 7,
   "metadata": {},
   "outputs": [
    {
     "name": "stdout",
     "output_type": "stream",
     "text": [
      "The average of python or mysql for college1 are :-  python    73.392857\n",
      "mysql     27.601190\n",
      "dtype: float64\n",
      "The average of python or mysql or computational_thinking for college2 are :-  python                     8.657143\n",
      "mysql                     13.657143\n",
      "computational_thinking     2.200000\n",
      "dtype: float64\n"
     ]
    }
   ],
   "source": [
    "import pandas as pd\n",
    "data1 = pd.read_csv('C:/assignment/college_1.csv')\n",
    "data2 = pd.read_csv('C:/assignment/college_2.csv')\n",
    "mean_specific1 = data1.loc[:,[\"python\",\"mysql\"]].mean()\n",
    "mean_specific2 = data2.loc[:,[\"python\",\"mysql\",\"computational_thinking\"]].mean()\n",
    "print(\"The average of python or mysql for college1 are :- \",mean_specific1)\n",
    "print(\"The average of python or mysql or computational_thinking for college2 are :- \",mean_specific2)"
   ]
  },
  {
   "cell_type": "markdown",
   "metadata": {},
   "source": [
    "###### rising star of the week (top 3 candidate who performed well in that particular week)"
   ]
  },
  {
   "cell_type": "code",
   "execution_count": 8,
   "metadata": {},
   "outputs": [
    {
     "data": {
      "text/html": [
       "<div>\n",
       "<style scoped>\n",
       "    .dataframe tbody tr th:only-of-type {\n",
       "        vertical-align: middle;\n",
       "    }\n",
       "\n",
       "    .dataframe tbody tr th {\n",
       "        vertical-align: top;\n",
       "    }\n",
       "\n",
       "    .dataframe thead th {\n",
       "        text-align: right;\n",
       "    }\n",
       "</style>\n",
       "<table border=\"1\" class=\"dataframe\">\n",
       "  <thead>\n",
       "    <tr style=\"text-align: right;\">\n",
       "      <th></th>\n",
       "      <th>Unnamed: 0</th>\n",
       "      <th>Name</th>\n",
       "      <th>python</th>\n",
       "      <th>mysql</th>\n",
       "      <th>Previous Geekions</th>\n",
       "      <th>CodeKata Score</th>\n",
       "      <th>Department</th>\n",
       "      <th>Rising</th>\n",
       "      <th>Name.1</th>\n",
       "      <th>python.1</th>\n",
       "      <th>python_en</th>\n",
       "      <th>mysql.1</th>\n",
       "      <th>computational_thinking</th>\n",
       "      <th>Previous Geekions.1</th>\n",
       "      <th>CodeKata Score.1</th>\n",
       "      <th>Department.1</th>\n",
       "      <th>Rising.1</th>\n",
       "    </tr>\n",
       "  </thead>\n",
       "  <tbody>\n",
       "    <tr>\n",
       "      <th>6</th>\n",
       "      <td>6</td>\n",
       "      <td>KALAIARASAN K</td>\n",
       "      <td>85.0</td>\n",
       "      <td>47.0</td>\n",
       "      <td>7750</td>\n",
       "      <td>7880</td>\n",
       "      <td>Electronics and Communication Engineering</td>\n",
       "      <td>130</td>\n",
       "      <td>Gowtham Chandrasekaran</td>\n",
       "      <td>-1.0</td>\n",
       "      <td>0.0</td>\n",
       "      <td>0.0</td>\n",
       "      <td>3.0</td>\n",
       "      <td>7250.0</td>\n",
       "      <td>8950.0</td>\n",
       "      <td>Computer Science and Engineering</td>\n",
       "      <td>1700.0</td>\n",
       "    </tr>\n",
       "    <tr>\n",
       "      <th>0</th>\n",
       "      <td>0</td>\n",
       "      <td>A.Dharani</td>\n",
       "      <td>82.0</td>\n",
       "      <td>20.0</td>\n",
       "      <td>24500</td>\n",
       "      <td>24500</td>\n",
       "      <td>Computer Science and Engineering</td>\n",
       "      <td>0</td>\n",
       "      <td>ASHOK KUMAR K</td>\n",
       "      <td>100.0</td>\n",
       "      <td>0.0</td>\n",
       "      <td>31.0</td>\n",
       "      <td>9.0</td>\n",
       "      <td>19400.0</td>\n",
       "      <td>19400.0</td>\n",
       "      <td>Electronics and Electrical Engineering</td>\n",
       "      <td>0.0</td>\n",
       "    </tr>\n",
       "    <tr>\n",
       "      <th>1</th>\n",
       "      <td>1</td>\n",
       "      <td>V.JEEVITHA</td>\n",
       "      <td>82.0</td>\n",
       "      <td>20.0</td>\n",
       "      <td>21740</td>\n",
       "      <td>21740</td>\n",
       "      <td>Computer Science and Engineering</td>\n",
       "      <td>0</td>\n",
       "      <td>Chandru</td>\n",
       "      <td>0.0</td>\n",
       "      <td>20.0</td>\n",
       "      <td>0.0</td>\n",
       "      <td>0.0</td>\n",
       "      <td>14150.0</td>\n",
       "      <td>14490.0</td>\n",
       "      <td>Computer Science and Engineering</td>\n",
       "      <td>340.0</td>\n",
       "    </tr>\n",
       "  </tbody>\n",
       "</table>\n",
       "</div>"
      ],
      "text/plain": [
       "   Unnamed: 0           Name  python  mysql  Previous Geekions  \\\n",
       "6           6  KALAIARASAN K    85.0   47.0               7750   \n",
       "0           0      A.Dharani    82.0   20.0              24500   \n",
       "1           1    V.JEEVITHA     82.0   20.0              21740   \n",
       "\n",
       "   CodeKata Score                                 Department  Rising  \\\n",
       "6            7880  Electronics and Communication Engineering     130   \n",
       "0           24500           Computer Science and Engineering       0   \n",
       "1           21740           Computer Science and Engineering       0   \n",
       "\n",
       "                   Name.1  python.1  python_en  mysql.1  \\\n",
       "6  Gowtham Chandrasekaran      -1.0        0.0      0.0   \n",
       "0           ASHOK KUMAR K     100.0        0.0     31.0   \n",
       "1                 Chandru       0.0       20.0      0.0   \n",
       "\n",
       "   computational_thinking  Previous Geekions.1  CodeKata Score.1  \\\n",
       "6                     3.0               7250.0            8950.0   \n",
       "0                     9.0              19400.0           19400.0   \n",
       "1                     0.0              14150.0           14490.0   \n",
       "\n",
       "                             Department.1  Rising.1  \n",
       "6        Computer Science and Engineering    1700.0  \n",
       "0  Electronics and Electrical Engineering       0.0  \n",
       "1        Computer Science and Engineering     340.0  "
      ]
     },
     "execution_count": 8,
     "metadata": {},
     "output_type": "execute_result"
    }
   ],
   "source": [
    "data1 = pd.read_csv('C:/assignment/college_1.csv')\n",
    "data2 = pd.read_csv('C:/assignment/college_2.csv')\n",
    "out_2 = pd.concat([data1,data2],axis =1)\n",
    "out_2.to_csv(\"Concatinated_data_set.csv\")\n",
    "out_3 = pd.read_csv(\"Concatinated_data_set.csv\")\n",
    "largest_3 = out_3.nlargest(3,['Rising'])\n",
    "largest_3"
   ]
  },
  {
   "cell_type": "markdown",
   "metadata": {},
   "source": [
    "###### Shining stars of the week (top 3 candidates who has highest geekions)"
   ]
  },
  {
   "cell_type": "code",
   "execution_count": 9,
   "metadata": {},
   "outputs": [
    {
     "data": {
      "text/html": [
       "<div>\n",
       "<style scoped>\n",
       "    .dataframe tbody tr th:only-of-type {\n",
       "        vertical-align: middle;\n",
       "    }\n",
       "\n",
       "    .dataframe tbody tr th {\n",
       "        vertical-align: top;\n",
       "    }\n",
       "\n",
       "    .dataframe thead th {\n",
       "        text-align: right;\n",
       "    }\n",
       "</style>\n",
       "<table border=\"1\" class=\"dataframe\">\n",
       "  <thead>\n",
       "    <tr style=\"text-align: right;\">\n",
       "      <th></th>\n",
       "      <th>Unnamed: 0</th>\n",
       "      <th>Name</th>\n",
       "      <th>python</th>\n",
       "      <th>mysql</th>\n",
       "      <th>Previous Geekions</th>\n",
       "      <th>CodeKata Score</th>\n",
       "      <th>Department</th>\n",
       "      <th>Rising</th>\n",
       "      <th>Name.1</th>\n",
       "      <th>python.1</th>\n",
       "      <th>python_en</th>\n",
       "      <th>mysql.1</th>\n",
       "      <th>computational_thinking</th>\n",
       "      <th>Previous Geekions.1</th>\n",
       "      <th>CodeKata Score.1</th>\n",
       "      <th>Department.1</th>\n",
       "      <th>Rising.1</th>\n",
       "    </tr>\n",
       "  </thead>\n",
       "  <tbody>\n",
       "    <tr>\n",
       "      <th>0</th>\n",
       "      <td>0</td>\n",
       "      <td>A.Dharani</td>\n",
       "      <td>82.0</td>\n",
       "      <td>20.0</td>\n",
       "      <td>24500</td>\n",
       "      <td>24500</td>\n",
       "      <td>Computer Science and Engineering</td>\n",
       "      <td>0</td>\n",
       "      <td>ASHOK KUMAR K</td>\n",
       "      <td>100.0</td>\n",
       "      <td>0.0</td>\n",
       "      <td>31.0</td>\n",
       "      <td>9.0</td>\n",
       "      <td>19400.0</td>\n",
       "      <td>19400.0</td>\n",
       "      <td>Electronics and Electrical Engineering</td>\n",
       "      <td>0.0</td>\n",
       "    </tr>\n",
       "    <tr>\n",
       "      <th>1</th>\n",
       "      <td>1</td>\n",
       "      <td>V.JEEVITHA</td>\n",
       "      <td>82.0</td>\n",
       "      <td>20.0</td>\n",
       "      <td>21740</td>\n",
       "      <td>21740</td>\n",
       "      <td>Computer Science and Engineering</td>\n",
       "      <td>0</td>\n",
       "      <td>Chandru</td>\n",
       "      <td>0.0</td>\n",
       "      <td>20.0</td>\n",
       "      <td>0.0</td>\n",
       "      <td>0.0</td>\n",
       "      <td>14150.0</td>\n",
       "      <td>14490.0</td>\n",
       "      <td>Computer Science and Engineering</td>\n",
       "      <td>340.0</td>\n",
       "    </tr>\n",
       "    <tr>\n",
       "      <th>2</th>\n",
       "      <td>2</td>\n",
       "      <td>HEMAVATHI.R</td>\n",
       "      <td>100.0</td>\n",
       "      <td>100.0</td>\n",
       "      <td>19680</td>\n",
       "      <td>19680</td>\n",
       "      <td>Computer Science and Engineering</td>\n",
       "      <td>0</td>\n",
       "      <td>Ganesh Ramkumar R</td>\n",
       "      <td>-1.0</td>\n",
       "      <td>55.0</td>\n",
       "      <td>24.0</td>\n",
       "      <td>6.0</td>\n",
       "      <td>8790.0</td>\n",
       "      <td>10790.0</td>\n",
       "      <td>Computer Science and Engineering</td>\n",
       "      <td>2000.0</td>\n",
       "    </tr>\n",
       "  </tbody>\n",
       "</table>\n",
       "</div>"
      ],
      "text/plain": [
       "   Unnamed: 0         Name  python  mysql  Previous Geekions  CodeKata Score  \\\n",
       "0           0    A.Dharani    82.0   20.0              24500           24500   \n",
       "1           1  V.JEEVITHA     82.0   20.0              21740           21740   \n",
       "2           2  HEMAVATHI.R   100.0  100.0              19680           19680   \n",
       "\n",
       "                         Department  Rising             Name.1  python.1  \\\n",
       "0  Computer Science and Engineering       0      ASHOK KUMAR K     100.0   \n",
       "1  Computer Science and Engineering       0            Chandru       0.0   \n",
       "2  Computer Science and Engineering       0  Ganesh Ramkumar R      -1.0   \n",
       "\n",
       "   python_en  mysql.1  computational_thinking  Previous Geekions.1  \\\n",
       "0        0.0     31.0                     9.0              19400.0   \n",
       "1       20.0      0.0                     0.0              14150.0   \n",
       "2       55.0     24.0                     6.0               8790.0   \n",
       "\n",
       "   CodeKata Score.1                            Department.1  Rising.1  \n",
       "0           19400.0  Electronics and Electrical Engineering       0.0  \n",
       "1           14490.0        Computer Science and Engineering     340.0  \n",
       "2           10790.0        Computer Science and Engineering    2000.0  "
      ]
     },
     "execution_count": 9,
     "metadata": {},
     "output_type": "execute_result"
    }
   ],
   "source": [
    "import pandas as pd \n",
    "data1 = pd.read_csv('C:/assignment/college_1.csv')\n",
    "data2 = pd.read_csv('C:/assignment/college_2.csv')\n",
    "out_2 = pd.concat([data1,data2],axis =1)\n",
    "out_2.to_csv(\"Concatinated_data_set.csv\")\n",
    "out_3 = pd.read_csv(\"Concatinated_data_set.csv\")\n",
    "highest_3 = out_3.nlargest(3,['Previous Geekions'])\n",
    "highest_3"
   ]
  },
  {
   "cell_type": "markdown",
   "metadata": {},
   "source": [
    "###### Department wise codekata performence (pie chart)"
   ]
  },
  {
   "cell_type": "code",
   "execution_count": 1,
   "metadata": {},
   "outputs": [
    {
     "data": {
      "image/png": "[encoded data removed]",
      "text/plain": [
       "<Figure size 432x288 with 1 Axes>"
      ]
     },
     "metadata": {},
     "output_type": "display_data"
    }
   ],
   "source": [
    "import pandas as pd\n",
    "import numpy as np\n",
    "import matplotlib.pyplot as plt\n",
    "data1 = pd.read_csv(\"C:/assignment/college_1.csv\") \n",
    "sum_1=data1.groupby('Department')['Previous Geekions'].sum()\n",
    "data2 = pd.read_csv(\"C:/assignment/college_2.csv\") \n",
    "sum_2=data2.groupby('Department')['Previous Geekions'].sum()\n",
    "sum_3 = sum_1 + sum_2\n",
    "sum_3\n",
    "my_labels = [\"Computer Science and Engineering\",\"Electronics and Communication Engineering\",\"Electronics and Electrical Engineering\"]\n",
    "x = ([301935.0,107325.0,47980.0])\n",
    "plt.pie(x,labels=my_labels,autopct=\"%.2f%%\",radius=1.5)\n",
    "plt.show()"
   ]
  },
  {
   "cell_type": "markdown",
   "metadata": {},
   "source": [
    "###### Department wise toppers (horizantal bar graph or any visual representations of your choice)"
   ]
  },
  {
   "cell_type": "code",
   "execution_count": 3,
   "metadata": {},
   "outputs": [
    {
     "data": {
      "text/plain": [
       "<BarContainer object of 3 artists>"
      ]
     },
     "execution_count": 3,
     "metadata": {},
     "output_type": "execute_result"
    },
    {
     "data": {
      "image/png": "[encoded data removed]",
      "text/plain": [
       "<Figure size 504x360 with 1 Axes>"
      ]
     },
     "metadata": {
      "needs_background": "light"
     },
     "output_type": "display_data"
    }
   ],
   "source": [
    "import pandas as pd\n",
    "import numpy as np\n",
    "import matplotlib.pyplot as plt\n",
    "data1 = pd.read_csv(\"C:/assignment/college_1.csv\") \n",
    "max_1 = data1.groupby('Department')[['CodeKata Score','Name']].max()\n",
    "max_1\n",
    "max_1 = pd.DataFrame({\n",
    "    'Department': ['CSE', 'ECE', 'EEE'],\n",
    "    'CodeKata Score': [24500, 7880, 260],\n",
    "    'Name': ['vijayakumar','vignesh B','yaser ahamen.A']\n",
    "})\n",
    "x = max_1[\"Department\"]\n",
    "y = max_1[\"CodeKata Score\"]\n",
    "fig = plt.figure(figsize =(7, 5))\n",
    "plt.xlabel(\"Department\")\n",
    "plt.ylabel(\"CodeKata Score\")\n",
    "plt.title(\"Department wise toppers\")\n",
    "plt.bar(x,y,color=['g','b','r'],width=0.2)"
   ]
  },
  {
   "cell_type": "code",
   "execution_count": 4,
   "metadata": {},
   "outputs": [
    {
     "data": {
      "text/plain": [
       "<BarContainer object of 3 artists>"
      ]
     },
     "execution_count": 4,
     "metadata": {},
     "output_type": "execute_result"
    },
    {
     "data": {
      "image/png": "[encoded data removed]",
      "text/plain": [
       "<Figure size 504x360 with 1 Axes>"
      ]
     },
     "metadata": {
      "needs_background": "light"
     },
     "output_type": "display_data"
    }
   ],
   "source": [
    "data2 = pd.read_csv(\"C:/assignment/college_2.csv\") \n",
    "max_2=data2.groupby('Department')[['Name','CodeKata Score']].max()\n",
    "max_2\n",
    "max_2 = pd.DataFrame({\n",
    "    'Department': ['CSE', 'ECE', 'EEE'],\n",
    "    'CodeKata Score': [14490,10040,19400],\n",
    "    'Name': ['sridhar.s','bala','shifak N']\n",
    "})\n",
    "x = max_2[\"Department\"]\n",
    "y = max_2[\"CodeKata Score\"]\n",
    "fig = plt.figure(figsize =(7, 5))\n",
    "plt.xlabel(\"Department\")\n",
    "plt.ylabel(\"CodeKata Score\")\n",
    "plt.title(\"Department wise toppers\")\n",
    "plt.bar(x,y,color=['g','b','r'],width=0.2)"
   ]
  },
  {
   "cell_type": "code",
   "execution_count": null,
   "metadata": {},
   "outputs": [],
   "source": []
  }
 ],
 "metadata": {
  "kernelspec": {
   "display_name": "Python 3",
   "language": "python",
   "name": "python3"
  },
  "language_info": {
   "codemirror_mode": {
    "name": "ipython",
    "version": 3
   },
   "file_extension": ".py",
   "mimetype": "text/x-python",
   "name": "python",
   "nbconvert_exporter": "python",
   "pygments_lexer": "ipython3",
   "version": "3.9.2"
  }
 },
 "nbformat": 4,
 "nbformat_minor": 2
}
