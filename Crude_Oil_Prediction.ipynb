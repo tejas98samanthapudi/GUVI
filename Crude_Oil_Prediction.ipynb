{
  "nbformat": 4,
  "nbformat_minor": 0,
  "metadata": {
    "colab": {
      "name": "Crude Oil Prediction.ipynb",
      "private_outputs": true,
      "provenance": [],
      "authorship_tag": "ABX9TyNOrA3zeLZrA3WOWlbQdH7B",
      "include_colab_link": true
    },
    "kernelspec": {
      "name": "python3",
      "display_name": "Python 3"
    },
    "language_info": {
      "name": "python"
    }
  },
  "cells": [
    {
      "cell_type": "markdown",
      "metadata": {
        "id": "view-in-github",
        "colab_type": "text"
      },
      "source": [
        "<a href=\"https://colab.research.google.com/github/tejas98samanthapudi/GUVI-Assignment/blob/master/Crude_Oil_Prediction.ipynb\" target=\"_parent\"><img src=\"https://colab.research.google.com/assets/colab-badge.svg\" alt=\"Open In Colab\"/></a>"
      ]
    },
    {
      "cell_type": "code",
      "execution_count": null,
      "metadata": {
        "id": "TIGy-9W-pylN"
      },
      "outputs": [],
      "source": [
        "import pandas as pd\n",
        "import numpy as np\n",
        "import matplotlib.pyplot as plt\n",
        "import warnings as warning\n",
        "import random\n",
        "import seaborn as sns\n",
        "from fbprophet import Prophet "
      ]
    },
    {
      "cell_type": "code",
      "source": [
        "df = pd.read_csv(\"crude oil.csv\")\n",
        "df.head()"
      ],
      "metadata": {
        "id": "OGr2kR5drTkQ"
      },
      "execution_count": null,
      "outputs": []
    },
    {
      "cell_type": "code",
      "source": [
        "df.isna().sum()"
      ],
      "metadata": {
        "id": "frvajNOXrtax"
      },
      "execution_count": null,
      "outputs": []
    },
    {
      "cell_type": "code",
      "source": [
        "df = df.dropna()\n",
        "df.isna().sum()"
      ],
      "metadata": {
        "id": "MdnRmQoerzP1"
      },
      "execution_count": null,
      "outputs": []
    },
    {
      "cell_type": "code",
      "source": [
        "df.head()"
      ],
      "metadata": {
        "id": "aJoe_ZllxlTj"
      },
      "execution_count": null,
      "outputs": []
    },
    {
      "cell_type": "code",
      "source": [
        "high_change = df.([\"Close\"])\n",
        "low_change = df.([\"Open\"])\n",
        "for i in range(0,90):\n",
        "  "
      ],
      "metadata": {
        "id": "C_OoFJZVxnjZ"
      },
      "execution_count": null,
      "outputs": []
    },
    {
      "cell_type": "code",
      "source": [
        "df.drop([ 'Open', 'High', 'Low', 'Close', 'Volume'],inplace = True, axis =1)\n",
        "\n",
        "df"
      ],
      "metadata": {
        "id": "pXY9-bHNsHlL"
      },
      "execution_count": null,
      "outputs": []
    },
    {
      "cell_type": "code",
      "source": [
        "df_final = df.rename(columns={'Date ':'ds', \"Adj Close\":'y'})"
      ],
      "metadata": {
        "id": "ygFReBhlt5yi"
      },
      "execution_count": null,
      "outputs": []
    },
    {
      "cell_type": "code",
      "source": [
        "df_final = df.reset_index()"
      ],
      "metadata": {
        "id": "-sYDqc_3uE38"
      },
      "execution_count": null,
      "outputs": []
    },
    {
      "cell_type": "code",
      "source": [
        "df_final.columns = [\"\",\"Date\", \"Count\"]"
      ],
      "metadata": {
        "id": "uPz9AZSaub15"
      },
      "execution_count": null,
      "outputs": []
    },
    {
      "cell_type": "code",
      "source": [
        "df_final = df_final.rename(columns={'Date':'ds', 'Count':'y'})"
      ],
      "metadata": {
        "id": "UhUSAKPNu0o0"
      },
      "execution_count": null,
      "outputs": []
    },
    {
      "cell_type": "code",
      "source": [
        "df_final"
      ],
      "metadata": {
        "id": "2gkEk_0xu-11"
      },
      "execution_count": null,
      "outputs": []
    },
    {
      "cell_type": "code",
      "source": [
        "m = Prophet()\n",
        "m.fit(df_final)"
      ],
      "metadata": {
        "id": "fSYcbST9uli-"
      },
      "execution_count": null,
      "outputs": []
    },
    {
      "cell_type": "code",
      "source": [
        "future = m.make_future_dataframe(periods=720)#for 365 days\n",
        "forecast = m.predict(future)"
      ],
      "metadata": {
        "id": "78vP0bwxuukJ"
      },
      "execution_count": null,
      "outputs": []
    },
    {
      "cell_type": "code",
      "source": [
        "forecast"
      ],
      "metadata": {
        "id": "bwFj96F_wLqa"
      },
      "execution_count": null,
      "outputs": []
    },
    {
      "cell_type": "code",
      "source": [
        "figure = m.plot(forecast, xlabel='Date', ylabel='Adj Close')"
      ],
      "metadata": {
        "id": "j1PhI8GCwPwz"
      },
      "execution_count": null,
      "outputs": []
    },
    {
      "cell_type": "code",
      "source": [
        "figure3 = m.plot_components(forecast)"
      ],
      "metadata": {
        "id": "6IBQvMHmwiJM"
      },
      "execution_count": null,
      "outputs": []
    },
    {
      "cell_type": "code",
      "source": [
        ""
      ],
      "metadata": {
        "id": "_z8nluqQwrF0"
      },
      "execution_count": null,
      "outputs": []
    }
  ]
}